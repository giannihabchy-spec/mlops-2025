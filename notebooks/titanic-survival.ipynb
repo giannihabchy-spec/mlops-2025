{
 "cells": [
  {
   "cell_type": "markdown",
   "id": "1f6ee37f",
   "metadata": {},
   "source": [
    "# Intro\n",
    "\n",
    "This notebook was taken from kaggle and updated for the puprose of the MLOps course.\n",
    "\n",
    "* Source notbebook: https://www.kaggle.com/code/abhishek0032/titanic-survival-prediction-feature-engineering/notebook\n",
    "* Datasets: https://www.kaggle.com/competitions/titanic/data\n",
    "\n",
    "In this lab, you need to:\n",
    "1. Run this notebook and understand it\n",
    "2. Transform it into scripts\n",
    "3. Move code into classes and use them in scripts"
   ]
  },
  {
   "cell_type": "code",
   "execution_count": null,
   "id": "d48a2604",
   "metadata": {
    "execution": {
     "iopub.execute_input": "2025-03-30T16:23:58.503476Z",
     "iopub.status.busy": "2025-03-30T16:23:58.502469Z",
     "iopub.status.idle": "2025-03-30T16:24:00.142678Z",
     "shell.execute_reply": "2025-03-30T16:24:00.141760Z"
    },
    "papermill": {
     "duration": 1.663987,
     "end_time": "2025-03-30T16:24:00.145215",
     "exception": false,
     "start_time": "2025-03-30T16:23:58.481228",
     "status": "completed"
    },
    "tags": []
   },
   "outputs": [],
   "source": [
    "import numpy as np\n",
    "import pandas as pd\n",
    "import matplotlib.pyplot as plt \n",
    "import seaborn as sns\n",
    "import warnings\n",
    "\n",
    "# Ignore all warnings\n",
    "warnings.filterwarnings(\"ignore\")"
   ]
  },
  {
   "cell_type": "code",
   "execution_count": null,
   "id": "d6ec12a5",
   "metadata": {
    "execution": {
     "iopub.execute_input": "2025-03-30T16:24:00.171384Z",
     "iopub.status.busy": "2025-03-30T16:24:00.171008Z",
     "iopub.status.idle": "2025-03-30T16:24:00.202828Z",
     "shell.execute_reply": "2025-03-30T16:24:00.201602Z"
    },
    "papermill": {
     "duration": 0.048336,
     "end_time": "2025-03-30T16:24:00.205491",
     "exception": false,
     "start_time": "2025-03-30T16:24:00.157155",
     "status": "completed"
    },
    "tags": []
   },
   "outputs": [],
   "source": [
    "train=pd.read_csv('../data/titanic/train.csv')\n",
    "test=pd.read_csv('../data/titanic/test.csv')"
   ]
  },
  {
   "cell_type": "code",
   "execution_count": null,
   "id": "6b75b6fa",
   "metadata": {
    "execution": {
     "iopub.execute_input": "2025-03-30T16:24:00.230639Z",
     "iopub.status.busy": "2025-03-30T16:24:00.230281Z",
     "iopub.status.idle": "2025-03-30T16:24:00.235897Z",
     "shell.execute_reply": "2025-03-30T16:24:00.234805Z"
    },
    "papermill": {
     "duration": 0.020634,
     "end_time": "2025-03-30T16:24:00.238031",
     "exception": false,
     "start_time": "2025-03-30T16:24:00.217397",
     "status": "completed"
    },
    "tags": []
   },
   "outputs": [],
   "source": [
    "print(train.shape)\n",
    "print(test.shape)"
   ]
  },
  {
   "cell_type": "markdown",
   "id": "bb18f800",
   "metadata": {
    "papermill": {
     "duration": 0.012227,
     "end_time": "2025-03-30T16:24:00.262466",
     "exception": false,
     "start_time": "2025-03-30T16:24:00.250239",
     "status": "completed"
    },
    "tags": []
   },
   "source": [
    "## Data Cleaning"
   ]
  },
  {
   "cell_type": "code",
   "execution_count": null,
   "id": "d3370367",
   "metadata": {
    "execution": {
     "iopub.execute_input": "2025-03-30T16:24:00.288499Z",
     "iopub.status.busy": "2025-03-30T16:24:00.288118Z",
     "iopub.status.idle": "2025-03-30T16:24:00.327797Z",
     "shell.execute_reply": "2025-03-30T16:24:00.326581Z"
    },
    "papermill": {
     "duration": 0.055485,
     "end_time": "2025-03-30T16:24:00.330017",
     "exception": false,
     "start_time": "2025-03-30T16:24:00.274532",
     "status": "completed"
    },
    "tags": []
   },
   "outputs": [],
   "source": [
    "test.info(),train.info()"
   ]
  },
  {
   "cell_type": "code",
   "execution_count": null,
   "id": "794adf28",
   "metadata": {
    "execution": {
     "iopub.execute_input": "2025-03-30T16:24:00.356837Z",
     "iopub.status.busy": "2025-03-30T16:24:00.356450Z",
     "iopub.status.idle": "2025-03-30T16:24:00.384431Z",
     "shell.execute_reply": "2025-03-30T16:24:00.383284Z"
    },
    "papermill": {
     "duration": 0.043765,
     "end_time": "2025-03-30T16:24:00.386540",
     "exception": false,
     "start_time": "2025-03-30T16:24:00.342775",
     "status": "completed"
    },
    "tags": []
   },
   "outputs": [],
   "source": [
    "train.sample(20)"
   ]
  },
  {
   "cell_type": "markdown",
   "id": "878cac68",
   "metadata": {
    "papermill": {
     "duration": 0.012351,
     "end_time": "2025-03-30T16:24:00.411387",
     "exception": false,
     "start_time": "2025-03-30T16:24:00.399036",
     "status": "completed"
    },
    "tags": []
   },
   "source": [
    "### Handling Null Values\n",
    "\n",
    "The 'Cabin' column contains numerous null values, so we will drop it.\n",
    "\n"
   ]
  },
  {
   "cell_type": "code",
   "execution_count": null,
   "id": "15dc8483",
   "metadata": {
    "execution": {
     "iopub.execute_input": "2025-03-30T16:24:00.438460Z",
     "iopub.status.busy": "2025-03-30T16:24:00.438107Z",
     "iopub.status.idle": "2025-03-30T16:24:00.446901Z",
     "shell.execute_reply": "2025-03-30T16:24:00.445781Z"
    },
    "papermill": {
     "duration": 0.025335,
     "end_time": "2025-03-30T16:24:00.449437",
     "exception": false,
     "start_time": "2025-03-30T16:24:00.424102",
     "status": "completed"
    },
    "tags": []
   },
   "outputs": [],
   "source": [
    "train.drop(columns=['Cabin'],inplace=True)\n",
    "test.drop(columns=['Cabin'],inplace=True)"
   ]
  },
  {
   "cell_type": "code",
   "execution_count": null,
   "id": "f64dc58d",
   "metadata": {
    "execution": {
     "iopub.execute_input": "2025-03-30T16:24:00.476401Z",
     "iopub.status.busy": "2025-03-30T16:24:00.476023Z",
     "iopub.status.idle": "2025-03-30T16:24:00.484541Z",
     "shell.execute_reply": "2025-03-30T16:24:00.483525Z"
    },
    "papermill": {
     "duration": 0.024528,
     "end_time": "2025-03-30T16:24:00.486497",
     "exception": false,
     "start_time": "2025-03-30T16:24:00.461969",
     "status": "completed"
    },
    "tags": []
   },
   "outputs": [],
   "source": [
    "train.isnull().sum()\n"
   ]
  },
  {
   "cell_type": "code",
   "execution_count": null,
   "id": "00c9b8d9",
   "metadata": {
    "execution": {
     "iopub.execute_input": "2025-03-30T16:24:00.514658Z",
     "iopub.status.busy": "2025-03-30T16:24:00.514315Z",
     "iopub.status.idle": "2025-03-30T16:24:00.522820Z",
     "shell.execute_reply": "2025-03-30T16:24:00.521754Z"
    },
    "papermill": {
     "duration": 0.025907,
     "end_time": "2025-03-30T16:24:00.524929",
     "exception": false,
     "start_time": "2025-03-30T16:24:00.499022",
     "status": "completed"
    },
    "tags": []
   },
   "outputs": [],
   "source": [
    "test.isnull().sum()"
   ]
  },
  {
   "cell_type": "code",
   "execution_count": null,
   "id": "a0966733",
   "metadata": {
    "execution": {
     "iopub.execute_input": "2025-03-30T16:24:00.552908Z",
     "iopub.status.busy": "2025-03-30T16:24:00.552512Z",
     "iopub.status.idle": "2025-03-30T16:24:00.558540Z",
     "shell.execute_reply": "2025-03-30T16:24:00.557611Z"
    },
    "papermill": {
     "duration": 0.022774,
     "end_time": "2025-03-30T16:24:00.560932",
     "exception": false,
     "start_time": "2025-03-30T16:24:00.538158",
     "status": "completed"
    },
    "tags": []
   },
   "outputs": [],
   "source": [
    "train['Embarked'].fillna('S',inplace=True)"
   ]
  },
  {
   "cell_type": "code",
   "execution_count": null,
   "id": "f0623500",
   "metadata": {
    "execution": {
     "iopub.execute_input": "2025-03-30T16:24:00.588928Z",
     "iopub.status.busy": "2025-03-30T16:24:00.588542Z",
     "iopub.status.idle": "2025-03-30T16:24:00.595454Z",
     "shell.execute_reply": "2025-03-30T16:24:00.594399Z"
    },
    "papermill": {
     "duration": 0.023019,
     "end_time": "2025-03-30T16:24:00.597416",
     "exception": false,
     "start_time": "2025-03-30T16:24:00.574397",
     "status": "completed"
    },
    "tags": []
   },
   "outputs": [],
   "source": [
    "test['Fare'].fillna(test['Fare'].mean(), inplace=True)"
   ]
  },
  {
   "cell_type": "markdown",
   "id": "8f8fdca7",
   "metadata": {
    "papermill": {
     "duration": 0.012846,
     "end_time": "2025-03-30T16:24:00.623104",
     "exception": false,
     "start_time": "2025-03-30T16:24:00.610258",
     "status": "completed"
    },
    "tags": []
   },
   "source": [
    "### Creating a Unified DataFrame for Easier Manipulation\n"
   ]
  },
  {
   "cell_type": "code",
   "execution_count": null,
   "id": "043b792f",
   "metadata": {
    "execution": {
     "iopub.execute_input": "2025-03-30T16:24:00.650547Z",
     "iopub.status.busy": "2025-03-30T16:24:00.650217Z",
     "iopub.status.idle": "2025-03-30T16:24:00.659653Z",
     "shell.execute_reply": "2025-03-30T16:24:00.658547Z"
    },
    "papermill": {
     "duration": 0.025876,
     "end_time": "2025-03-30T16:24:00.661944",
     "exception": false,
     "start_time": "2025-03-30T16:24:00.636068",
     "status": "completed"
    },
    "tags": []
   },
   "outputs": [],
   "source": [
    "df=pd.concat([train,test],sort=True).reset_index(drop=True)"
   ]
  },
  {
   "cell_type": "code",
   "execution_count": null,
   "id": "b146f621",
   "metadata": {
    "execution": {
     "iopub.execute_input": "2025-03-30T16:24:00.689508Z",
     "iopub.status.busy": "2025-03-30T16:24:00.689147Z",
     "iopub.status.idle": "2025-03-30T16:24:00.696019Z",
     "shell.execute_reply": "2025-03-30T16:24:00.694889Z"
    },
    "papermill": {
     "duration": 0.023197,
     "end_time": "2025-03-30T16:24:00.698243",
     "exception": false,
     "start_time": "2025-03-30T16:24:00.675046",
     "status": "completed"
    },
    "tags": []
   },
   "outputs": [],
   "source": [
    "df.shape"
   ]
  },
  {
   "cell_type": "code",
   "execution_count": null,
   "id": "ee50c1ca",
   "metadata": {
    "execution": {
     "iopub.execute_input": "2025-03-30T16:24:00.726526Z",
     "iopub.status.busy": "2025-03-30T16:24:00.726193Z",
     "iopub.status.idle": "2025-03-30T16:24:00.741896Z",
     "shell.execute_reply": "2025-03-30T16:24:00.740802Z"
    },
    "papermill": {
     "duration": 0.032639,
     "end_time": "2025-03-30T16:24:00.744167",
     "exception": false,
     "start_time": "2025-03-30T16:24:00.711528",
     "status": "completed"
    },
    "tags": []
   },
   "outputs": [],
   "source": [
    "df.head()"
   ]
  },
  {
   "cell_type": "code",
   "execution_count": null,
   "id": "ecc094e7",
   "metadata": {
    "execution": {
     "iopub.execute_input": "2025-03-30T16:24:00.772127Z",
     "iopub.status.busy": "2025-03-30T16:24:00.771711Z",
     "iopub.status.idle": "2025-03-30T16:24:00.783680Z",
     "shell.execute_reply": "2025-03-30T16:24:00.782470Z"
    },
    "papermill": {
     "duration": 0.028715,
     "end_time": "2025-03-30T16:24:00.786033",
     "exception": false,
     "start_time": "2025-03-30T16:24:00.757318",
     "status": "completed"
    },
    "tags": []
   },
   "outputs": [],
   "source": [
    "df.corr(numeric_only=True)['Age'].abs()"
   ]
  },
  {
   "cell_type": "code",
   "execution_count": null,
   "id": "6c2e19e4",
   "metadata": {
    "execution": {
     "iopub.execute_input": "2025-03-30T16:24:00.814534Z",
     "iopub.status.busy": "2025-03-30T16:24:00.814218Z",
     "iopub.status.idle": "2025-03-30T16:24:00.831248Z",
     "shell.execute_reply": "2025-03-30T16:24:00.830157Z"
    },
    "papermill": {
     "duration": 0.034017,
     "end_time": "2025-03-30T16:24:00.833478",
     "exception": false,
     "start_time": "2025-03-30T16:24:00.799461",
     "status": "completed"
    },
    "tags": []
   },
   "outputs": [],
   "source": [
    "df_Age_mean=df.groupby(['Sex', 'Pclass']).median(numeric_only=True)['Age']\n",
    "df_Age_mean"
   ]
  },
  {
   "cell_type": "code",
   "execution_count": null,
   "id": "2401959e",
   "metadata": {
    "execution": {
     "iopub.execute_input": "2025-03-30T16:24:00.862470Z",
     "iopub.status.busy": "2025-03-30T16:24:00.862087Z",
     "iopub.status.idle": "2025-03-30T16:24:00.875913Z",
     "shell.execute_reply": "2025-03-30T16:24:00.874710Z"
    },
    "papermill": {
     "duration": 0.031257,
     "end_time": "2025-03-30T16:24:00.878398",
     "exception": false,
     "start_time": "2025-03-30T16:24:00.847141",
     "status": "completed"
    },
    "tags": []
   },
   "outputs": [],
   "source": [
    "df['Age']=df.groupby(['Sex','Pclass'])['Age'].transform(lambda x: x.fillna(x.median()))"
   ]
  },
  {
   "cell_type": "code",
   "execution_count": null,
   "id": "0402cf91",
   "metadata": {
    "execution": {
     "iopub.execute_input": "2025-03-30T16:24:00.908441Z",
     "iopub.status.busy": "2025-03-30T16:24:00.908081Z",
     "iopub.status.idle": "2025-03-30T16:24:00.916472Z",
     "shell.execute_reply": "2025-03-30T16:24:00.915452Z"
    },
    "papermill": {
     "duration": 0.025335,
     "end_time": "2025-03-30T16:24:00.918473",
     "exception": false,
     "start_time": "2025-03-30T16:24:00.893138",
     "status": "completed"
    },
    "tags": []
   },
   "outputs": [],
   "source": [
    "df.isnull().sum()"
   ]
  },
  {
   "cell_type": "markdown",
   "id": "30faa122",
   "metadata": {
    "papermill": {
     "duration": 0.013424,
     "end_time": "2025-03-30T16:24:01.003752",
     "exception": false,
     "start_time": "2025-03-30T16:24:00.990328",
     "status": "completed"
    },
    "tags": []
   },
   "source": [
    "### Extracting Titles from Names and Adding as a Separate Column\n"
   ]
  },
  {
   "cell_type": "code",
   "execution_count": null,
   "id": "a5b3521d",
   "metadata": {
    "execution": {
     "iopub.execute_input": "2025-03-30T16:24:01.033258Z",
     "iopub.status.busy": "2025-03-30T16:24:01.032874Z",
     "iopub.status.idle": "2025-03-30T16:24:01.043861Z",
     "shell.execute_reply": "2025-03-30T16:24:01.042799Z"
    },
    "papermill": {
     "duration": 0.02817,
     "end_time": "2025-03-30T16:24:01.046065",
     "exception": false,
     "start_time": "2025-03-30T16:24:01.017895",
     "status": "completed"
    },
    "tags": []
   },
   "outputs": [],
   "source": [
    "df['Title']=df['Name'].str.split(\", \",expand=True)[1].str.split(\".\",expand=True)[0]"
   ]
  },
  {
   "cell_type": "code",
   "execution_count": null,
   "id": "ac882922",
   "metadata": {
    "execution": {
     "iopub.execute_input": "2025-03-30T16:24:01.076295Z",
     "iopub.status.busy": "2025-03-30T16:24:01.075388Z",
     "iopub.status.idle": "2025-03-30T16:24:01.084346Z",
     "shell.execute_reply": "2025-03-30T16:24:01.083219Z"
    },
    "papermill": {
     "duration": 0.026559,
     "end_time": "2025-03-30T16:24:01.086758",
     "exception": false,
     "start_time": "2025-03-30T16:24:01.060199",
     "status": "completed"
    },
    "tags": []
   },
   "outputs": [],
   "source": [
    "df['Title'].value_counts()"
   ]
  },
  {
   "cell_type": "code",
   "execution_count": null,
   "id": "972eb73b",
   "metadata": {
    "execution": {
     "iopub.execute_input": "2025-03-30T16:24:01.117466Z",
     "iopub.status.busy": "2025-03-30T16:24:01.116602Z",
     "iopub.status.idle": "2025-03-30T16:24:01.127655Z",
     "shell.execute_reply": "2025-03-30T16:24:01.126669Z"
    },
    "papermill": {
     "duration": 0.02899,
     "end_time": "2025-03-30T16:24:01.129982",
     "exception": false,
     "start_time": "2025-03-30T16:24:01.100992",
     "status": "completed"
    },
    "tags": []
   },
   "outputs": [],
   "source": [
    "df['Title'] = df['Title'].replace(['Lady', 'the Countess','Capt', 'Col','Don', 'Dr', 'Major', 'Rev', 'Sir', 'Jonkheer', 'Dona'], 'Rare')\n",
    "df['Title'] = df['Title'].replace('Mlle', 'Miss')\n",
    "df['Title'] = df['Title'].replace('Ms', 'Miss')\n",
    "df['Title'] = df['Title'].replace('Mme', 'Mrs')"
   ]
  },
  {
   "cell_type": "code",
   "execution_count": null,
   "id": "890d5e55",
   "metadata": {
    "execution": {
     "iopub.execute_input": "2025-03-30T16:24:01.160822Z",
     "iopub.status.busy": "2025-03-30T16:24:01.160431Z",
     "iopub.status.idle": "2025-03-30T16:24:01.169187Z",
     "shell.execute_reply": "2025-03-30T16:24:01.168075Z"
    },
    "papermill": {
     "duration": 0.026735,
     "end_time": "2025-03-30T16:24:01.171298",
     "exception": false,
     "start_time": "2025-03-30T16:24:01.144563",
     "status": "completed"
    },
    "tags": []
   },
   "outputs": [],
   "source": [
    "df['Title'].value_counts()"
   ]
  },
  {
   "cell_type": "markdown",
   "id": "6165cb52",
   "metadata": {
    "papermill": {
     "duration": 0.013758,
     "end_time": "2025-03-30T16:24:01.199887",
     "exception": false,
     "start_time": "2025-03-30T16:24:01.186129",
     "status": "completed"
    },
    "tags": []
   },
   "source": [
    "### Creating a Family Column by Combining Sibling and Parent Child Column\n",
    "\n"
   ]
  },
  {
   "cell_type": "code",
   "execution_count": null,
   "id": "1855f22c",
   "metadata": {
    "execution": {
     "iopub.execute_input": "2025-03-30T16:24:01.229908Z",
     "iopub.status.busy": "2025-03-30T16:24:01.229535Z",
     "iopub.status.idle": "2025-03-30T16:24:01.235783Z",
     "shell.execute_reply": "2025-03-30T16:24:01.234706Z"
    },
    "papermill": {
     "duration": 0.023735,
     "end_time": "2025-03-30T16:24:01.237989",
     "exception": false,
     "start_time": "2025-03-30T16:24:01.214254",
     "status": "completed"
    },
    "tags": []
   },
   "outputs": [],
   "source": [
    "df['Family_size']=df['SibSp'] + df['Parch'] + 1"
   ]
  },
  {
   "cell_type": "code",
   "execution_count": null,
   "id": "ee27266d",
   "metadata": {
    "execution": {
     "iopub.execute_input": "2025-03-30T16:24:01.269430Z",
     "iopub.status.busy": "2025-03-30T16:24:01.268579Z",
     "iopub.status.idle": "2025-03-30T16:24:01.286352Z",
     "shell.execute_reply": "2025-03-30T16:24:01.285203Z"
    },
    "papermill": {
     "duration": 0.035515,
     "end_time": "2025-03-30T16:24:01.288509",
     "exception": false,
     "start_time": "2025-03-30T16:24:01.252994",
     "status": "completed"
    },
    "tags": []
   },
   "outputs": [],
   "source": [
    "df.sample(10)"
   ]
  },
  {
   "cell_type": "code",
   "execution_count": null,
   "id": "1a7d8cfc",
   "metadata": {
    "execution": {
     "iopub.execute_input": "2025-03-30T16:24:01.319487Z",
     "iopub.status.busy": "2025-03-30T16:24:01.319153Z",
     "iopub.status.idle": "2025-03-30T16:24:01.325343Z",
     "shell.execute_reply": "2025-03-30T16:24:01.324236Z"
    },
    "papermill": {
     "duration": 0.024273,
     "end_time": "2025-03-30T16:24:01.327563",
     "exception": false,
     "start_time": "2025-03-30T16:24:01.303290",
     "status": "completed"
    },
    "tags": []
   },
   "outputs": [],
   "source": [
    "df.drop(columns=['Name','Parch','SibSp','Ticket'],inplace=True)"
   ]
  },
  {
   "cell_type": "code",
   "execution_count": null,
   "id": "4796f1b7",
   "metadata": {
    "execution": {
     "iopub.execute_input": "2025-03-30T16:24:01.359578Z",
     "iopub.status.busy": "2025-03-30T16:24:01.359255Z",
     "iopub.status.idle": "2025-03-30T16:24:01.374549Z",
     "shell.execute_reply": "2025-03-30T16:24:01.373502Z"
    },
    "papermill": {
     "duration": 0.03354,
     "end_time": "2025-03-30T16:24:01.376688",
     "exception": false,
     "start_time": "2025-03-30T16:24:01.343148",
     "status": "completed"
    },
    "tags": []
   },
   "outputs": [],
   "source": [
    "df.sample(10)"
   ]
  },
  {
   "cell_type": "code",
   "execution_count": null,
   "id": "9b72ab74",
   "metadata": {
    "execution": {
     "iopub.execute_input": "2025-03-30T16:24:01.408759Z",
     "iopub.status.busy": "2025-03-30T16:24:01.408413Z",
     "iopub.status.idle": "2025-03-30T16:24:01.413575Z",
     "shell.execute_reply": "2025-03-30T16:24:01.412594Z"
    },
    "papermill": {
     "duration": 0.023909,
     "end_time": "2025-03-30T16:24:01.415711",
     "exception": false,
     "start_time": "2025-03-30T16:24:01.391802",
     "status": "completed"
    },
    "tags": []
   },
   "outputs": [],
   "source": [
    "def family_size(number):\n",
    "    if number==1:\n",
    "        return \"Alone\"\n",
    "    elif number>1 and number <5:\n",
    "        return \"Small\"\n",
    "    else:\n",
    "        return \"Large\""
   ]
  },
  {
   "cell_type": "code",
   "execution_count": null,
   "id": "794aa457",
   "metadata": {
    "execution": {
     "iopub.execute_input": "2025-03-30T16:24:01.448002Z",
     "iopub.status.busy": "2025-03-30T16:24:01.447609Z",
     "iopub.status.idle": "2025-03-30T16:24:01.453828Z",
     "shell.execute_reply": "2025-03-30T16:24:01.452631Z"
    },
    "papermill": {
     "duration": 0.025058,
     "end_time": "2025-03-30T16:24:01.456238",
     "exception": false,
     "start_time": "2025-03-30T16:24:01.431180",
     "status": "completed"
    },
    "tags": []
   },
   "outputs": [],
   "source": [
    "df['Family_size']=df['Family_size'].apply(family_size)\n"
   ]
  },
  {
   "cell_type": "markdown",
   "id": "e815b914",
   "metadata": {
    "papermill": {
     "duration": 0.014784,
     "end_time": "2025-03-30T16:24:01.486406",
     "exception": false,
     "start_time": "2025-03-30T16:24:01.471622",
     "status": "completed"
    },
    "tags": []
   },
   "source": [
    "## Exploratory Data Analysis"
   ]
  },
  {
   "cell_type": "code",
   "execution_count": null,
   "id": "4a44da38",
   "metadata": {
    "execution": {
     "iopub.execute_input": "2025-03-30T16:24:01.520529Z",
     "iopub.status.busy": "2025-03-30T16:24:01.520198Z",
     "iopub.status.idle": "2025-03-30T16:24:01.531689Z",
     "shell.execute_reply": "2025-03-30T16:24:01.530623Z"
    },
    "papermill": {
     "duration": 0.032201,
     "end_time": "2025-03-30T16:24:01.533802",
     "exception": false,
     "start_time": "2025-03-30T16:24:01.501601",
     "status": "completed"
    },
    "tags": []
   },
   "outputs": [],
   "source": [
    "df.info()"
   ]
  },
  {
   "cell_type": "code",
   "execution_count": null,
   "id": "5206cf96",
   "metadata": {
    "execution": {
     "iopub.execute_input": "2025-03-30T16:24:01.566410Z",
     "iopub.status.busy": "2025-03-30T16:24:01.565577Z",
     "iopub.status.idle": "2025-03-30T16:24:01.571238Z",
     "shell.execute_reply": "2025-03-30T16:24:01.570121Z"
    },
    "papermill": {
     "duration": 0.024157,
     "end_time": "2025-03-30T16:24:01.573209",
     "exception": false,
     "start_time": "2025-03-30T16:24:01.549052",
     "status": "completed"
    },
    "tags": []
   },
   "outputs": [],
   "source": [
    "df['Age'] = df['Age'].astype('int64')\n"
   ]
  },
  {
   "cell_type": "code",
   "execution_count": null,
   "id": "c0a07e0e",
   "metadata": {
    "execution": {
     "iopub.execute_input": "2025-03-30T16:24:01.607401Z",
     "iopub.status.busy": "2025-03-30T16:24:01.606978Z",
     "iopub.status.idle": "2025-03-30T16:24:01.618467Z",
     "shell.execute_reply": "2025-03-30T16:24:01.617344Z"
    },
    "papermill": {
     "duration": 0.031604,
     "end_time": "2025-03-30T16:24:01.621605",
     "exception": false,
     "start_time": "2025-03-30T16:24:01.590001",
     "status": "completed"
    },
    "tags": []
   },
   "outputs": [],
   "source": [
    "df.info()"
   ]
  },
  {
   "cell_type": "markdown",
   "id": "cf3acda6",
   "metadata": {
    "papermill": {
     "duration": 0.016332,
     "end_time": "2025-03-30T16:24:01.654706",
     "exception": false,
     "start_time": "2025-03-30T16:24:01.638374",
     "status": "completed"
    },
    "tags": []
   },
   "source": [
    "### Finding Survival Correlation with Every Other Column\n",
    "\n",
    "We will analyze the correlation between survival and every other column to understand their relationships.\n"
   ]
  },
  {
   "cell_type": "code",
   "execution_count": null,
   "id": "f30b9e78",
   "metadata": {
    "execution": {
     "iopub.execute_input": "2025-03-30T16:24:01.687640Z",
     "iopub.status.busy": "2025-03-30T16:24:01.687311Z",
     "iopub.status.idle": "2025-03-30T16:24:01.710878Z",
     "shell.execute_reply": "2025-03-30T16:24:01.709500Z"
    },
    "papermill": {
     "duration": 0.043062,
     "end_time": "2025-03-30T16:24:01.713271",
     "exception": false,
     "start_time": "2025-03-30T16:24:01.670209",
     "status": "completed"
    },
    "tags": []
   },
   "outputs": [],
   "source": [
    "col=['Embarked','Pclass','Sex','Title','Family_size']\n",
    "for i in col:\n",
    "    print('Survival Correlation by:', i)\n",
    "    df2=df.groupby(i)['Survived'].mean().reset_index()\n",
    "    print(df2)\n",
    "    print('-'*10, '\\n')"
   ]
  },
  {
   "cell_type": "markdown",
   "id": "8e41c066",
   "metadata": {
    "papermill": {
     "duration": 0.015186,
     "end_time": "2025-03-30T16:24:01.744442",
     "exception": false,
     "start_time": "2025-03-30T16:24:01.729256",
     "status": "completed"
    },
    "tags": []
   },
   "source": [
    "### Adding Graphs to Clarify the Picture\n",
    "\n",
    "We will include some visualizations to make the data and its correlations clearer.\n"
   ]
  },
  {
   "cell_type": "code",
   "execution_count": null,
   "id": "3f28944f",
   "metadata": {
    "execution": {
     "iopub.execute_input": "2025-03-30T16:24:01.777234Z",
     "iopub.status.busy": "2025-03-30T16:24:01.776882Z",
     "iopub.status.idle": "2025-03-30T16:24:02.749199Z",
     "shell.execute_reply": "2025-03-30T16:24:02.748075Z"
    },
    "papermill": {
     "duration": 0.99121,
     "end_time": "2025-03-30T16:24:02.751452",
     "exception": false,
     "start_time": "2025-03-30T16:24:01.760242",
     "status": "completed"
    },
    "tags": []
   },
   "outputs": [],
   "source": [
    "sns.histplot(data=df, x='Age', hue='Survived', bins=30, kde=False, element='step', stat='density', common_norm=False, palette={0: 'red', 1: 'green'}, alpha=0.5)\n",
    "plt.title('Age Distribution by Survival')\n",
    "plt.xlabel('Age')\n",
    "plt.ylabel('Density')\n",
    "plt.legend(title='Survived', labels=['Not Survived', 'Survived'])\n",
    "plt.show()\n"
   ]
  },
  {
   "cell_type": "code",
   "execution_count": null,
   "id": "fb6886a8",
   "metadata": {
    "execution": {
     "iopub.execute_input": "2025-03-30T16:24:02.785630Z",
     "iopub.status.busy": "2025-03-30T16:24:02.784660Z",
     "iopub.status.idle": "2025-03-30T16:24:02.800424Z",
     "shell.execute_reply": "2025-03-30T16:24:02.799385Z"
    },
    "papermill": {
     "duration": 0.034747,
     "end_time": "2025-03-30T16:24:02.802403",
     "exception": false,
     "start_time": "2025-03-30T16:24:02.767656",
     "status": "completed"
    },
    "tags": []
   },
   "outputs": [],
   "source": [
    "sns.histplot(data=df, x='Fare', hue='Survived', bins=30, kde=False, element='step', stat='density', common_norm=False, palette={0: 'red', 1: 'green'}, alpha=0.5)\n",
    "plt.title('Fare Distribution by Survival')\n",
    "plt.xlabel('Fare')\n",
    "plt.ylabel('Density')\n",
    "plt.legend(title='Survived', labels=['Not Survived', 'Survived'])\n",
    "plt.show()\n"
   ]
  },
  {
   "cell_type": "code",
   "execution_count": null,
   "id": "50448058",
   "metadata": {
    "execution": {
     "iopub.execute_input": "2025-03-30T16:24:02.837667Z",
     "iopub.status.busy": "2025-03-30T16:24:02.837274Z",
     "iopub.status.idle": "2025-03-30T16:24:02.855950Z",
     "shell.execute_reply": "2025-03-30T16:24:02.854880Z"
    },
    "papermill": {
     "duration": 0.038871,
     "end_time": "2025-03-30T16:24:02.858062",
     "exception": false,
     "start_time": "2025-03-30T16:24:02.819191",
     "status": "completed"
    },
    "tags": []
   },
   "outputs": [],
   "source": [
    "sns.histplot(data=df, x='Family_size', hue='Survived', multiple='stack', palette={0: 'red', 1: 'green'}, alpha=0.6)\n",
    "plt.title('Family Size Distribution by Survival')\n",
    "plt.xlabel('Family Size')\n",
    "plt.ylabel('Count')\n",
    "plt.legend(title='Survived', labels=['Not Survived', 'Survived'])\n",
    "plt.show()\n"
   ]
  },
  {
   "cell_type": "code",
   "execution_count": null,
   "id": "3034d804",
   "metadata": {
    "execution": {
     "iopub.execute_input": "2025-03-30T16:24:02.893183Z",
     "iopub.status.busy": "2025-03-30T16:24:02.892837Z",
     "iopub.status.idle": "2025-03-30T16:24:03.225374Z",
     "shell.execute_reply": "2025-03-30T16:24:03.224306Z"
    },
    "papermill": {
     "duration": 0.352958,
     "end_time": "2025-03-30T16:24:03.227761",
     "exception": false,
     "start_time": "2025-03-30T16:24:02.874803",
     "status": "completed"
    },
    "tags": []
   },
   "outputs": [],
   "source": [
    "fig, axes = plt.subplots(1, len(col), figsize=(20, 5))\n",
    "\n",
    "for i, c in enumerate(col):\n",
    "    sns.countplot(data=df, x=c, hue='Survived', palette={0: 'red', 1: 'green'}, ax=axes[i])\n",
    "    axes[i].set_title(f'Countplot of {c} by Survival')\n",
    "    axes[i].set_xlabel(c)\n",
    "    axes[i].set_ylabel('Count')\n",
    "    axes[i].legend(title='Survived', labels=['Not Survived', 'Survived'])\n",
    "\n",
    "plt.tight_layout()\n",
    "plt.show()\n"
   ]
  },
  {
   "cell_type": "code",
   "execution_count": null,
   "id": "f89862eb",
   "metadata": {
    "execution": {
     "iopub.execute_input": "2025-03-30T16:24:03.263788Z",
     "iopub.status.busy": "2025-03-30T16:24:03.263371Z",
     "iopub.status.idle": "2025-03-30T16:24:09.924574Z",
     "shell.execute_reply": "2025-03-30T16:24:09.923455Z"
    },
    "papermill": {
     "duration": 6.685251,
     "end_time": "2025-03-30T16:24:09.930354",
     "exception": false,
     "start_time": "2025-03-30T16:24:03.245103",
     "status": "completed"
    },
    "tags": []
   },
   "outputs": [],
   "source": [
    "sns.pairplot(df,hue='Survived')"
   ]
  },
  {
   "cell_type": "code",
   "execution_count": null,
   "id": "4146566a",
   "metadata": {
    "execution": {
     "iopub.execute_input": "2025-03-30T16:24:09.984408Z",
     "iopub.status.busy": "2025-03-30T16:24:09.983974Z",
     "iopub.status.idle": "2025-03-30T16:24:10.434260Z",
     "shell.execute_reply": "2025-03-30T16:24:10.433118Z"
    },
    "papermill": {
     "duration": 0.480002,
     "end_time": "2025-03-30T16:24:10.436773",
     "exception": false,
     "start_time": "2025-03-30T16:24:09.956771",
     "status": "completed"
    },
    "tags": []
   },
   "outputs": [],
   "source": [
    "def correlation_heatmap(df):\n",
    "    _ , ax = plt.subplots(figsize =(14, 12))\n",
    "    colormap = sns.diverging_palette(220, 10, as_cmap = True)\n",
    "    \n",
    "    _ = sns.heatmap(\n",
    "        df.corr(numeric_only=True), \n",
    "        cmap = colormap,\n",
    "        square=True, \n",
    "        cbar_kws={'shrink':.9 }, \n",
    "        ax=ax,\n",
    "        annot=True, \n",
    "        linewidths=0.1,vmax=1.0, linecolor='white',\n",
    "        annot_kws={'fontsize':12 }\n",
    "    )\n",
    "    \n",
    "    plt.title('Pearson Correlation of Features', y=1.05, size=15)\n",
    "\n",
    "correlation_heatmap(df)\n"
   ]
  },
  {
   "cell_type": "markdown",
   "id": "39a56704",
   "metadata": {
    "papermill": {
     "duration": 0.026824,
     "end_time": "2025-03-30T16:24:10.491651",
     "exception": false,
     "start_time": "2025-03-30T16:24:10.464827",
     "status": "completed"
    },
    "tags": []
   },
   "source": [
    "## Feature Engineering¶"
   ]
  },
  {
   "cell_type": "code",
   "execution_count": null,
   "id": "6ca9674f",
   "metadata": {
    "execution": {
     "iopub.execute_input": "2025-03-30T16:24:10.548347Z",
     "iopub.status.busy": "2025-03-30T16:24:10.547984Z",
     "iopub.status.idle": "2025-03-30T16:24:11.578615Z",
     "shell.execute_reply": "2025-03-30T16:24:11.577519Z"
    },
    "papermill": {
     "duration": 1.062171,
     "end_time": "2025-03-30T16:24:11.581007",
     "exception": false,
     "start_time": "2025-03-30T16:24:10.518836",
     "status": "completed"
    },
    "tags": []
   },
   "outputs": [],
   "source": [
    "from sklearn.model_selection import train_test_split,GridSearchCV\n",
    "from sklearn.compose import ColumnTransformer\n",
    "from sklearn.preprocessing import OneHotEncoder\n",
    "from sklearn.preprocessing import OrdinalEncoder\n",
    "from sklearn.preprocessing import MinMaxScaler,StandardScaler\n",
    "from sklearn.pipeline import Pipeline,make_pipeline\n",
    "from sklearn.feature_selection import SelectKBest,chi2\n",
    "from sklearn.preprocessing import MinMaxScaler\n",
    "from sklearn.preprocessing import Binarizer\n",
    "from sklearn.preprocessing import KBinsDiscretizer\n",
    "from sklearn.preprocessing import MultiLabelBinarizer\n",
    "from sklearn.metrics import accuracy_score\n",
    "from sklearn import ensemble\n",
    "from sklearn import gaussian_process\n",
    "from sklearn import linear_model\n",
    "from sklearn import naive_bayes\n",
    "from sklearn import neighbors\n",
    "from sklearn import svm\n",
    "from sklearn import tree\n",
    "from sklearn import discriminant_analysis\n",
    "# from xgboost import XGBClassifier\n",
    "from sklearn.model_selection import cross_val_score\n"
   ]
  },
  {
   "cell_type": "code",
   "execution_count": null,
   "id": "1632d1fd",
   "metadata": {
    "execution": {
     "iopub.execute_input": "2025-03-30T16:24:11.637337Z",
     "iopub.status.busy": "2025-03-30T16:24:11.636927Z",
     "iopub.status.idle": "2025-03-30T16:24:11.651388Z",
     "shell.execute_reply": "2025-03-30T16:24:11.650347Z"
    },
    "papermill": {
     "duration": 0.045325,
     "end_time": "2025-03-30T16:24:11.653662",
     "exception": false,
     "start_time": "2025-03-30T16:24:11.608337",
     "status": "completed"
    },
    "tags": []
   },
   "outputs": [],
   "source": [
    "df.head()"
   ]
  },
  {
   "cell_type": "markdown",
   "id": "ccd9d269",
   "metadata": {
    "papermill": {
     "duration": 0.027503,
     "end_time": "2025-03-30T16:24:11.709031",
     "exception": false,
     "start_time": "2025-03-30T16:24:11.681528",
     "status": "completed"
    },
    "tags": []
   },
   "source": [
    "### Separating the Data into Train and Test Sets\n",
    "\n",
    "We will divide the data into training and testing sets to evaluate the model's performance.\n"
   ]
  },
  {
   "cell_type": "code",
   "execution_count": null,
   "id": "9d6a4b41",
   "metadata": {
    "execution": {
     "iopub.execute_input": "2025-03-30T16:24:11.766130Z",
     "iopub.status.busy": "2025-03-30T16:24:11.765367Z",
     "iopub.status.idle": "2025-03-30T16:24:11.770901Z",
     "shell.execute_reply": "2025-03-30T16:24:11.769873Z"
    },
    "papermill": {
     "duration": 0.03639,
     "end_time": "2025-03-30T16:24:11.772960",
     "exception": false,
     "start_time": "2025-03-30T16:24:11.736570",
     "status": "completed"
    },
    "tags": []
   },
   "outputs": [],
   "source": [
    "train = df.loc[:890]\n",
    "test = df.loc[891:]"
   ]
  },
  {
   "cell_type": "code",
   "execution_count": null,
   "id": "66f208f4",
   "metadata": {
    "execution": {
     "iopub.execute_input": "2025-03-30T16:24:11.830089Z",
     "iopub.status.busy": "2025-03-30T16:24:11.829305Z",
     "iopub.status.idle": "2025-03-30T16:24:11.842301Z",
     "shell.execute_reply": "2025-03-30T16:24:11.841123Z"
    },
    "papermill": {
     "duration": 0.04429,
     "end_time": "2025-03-30T16:24:11.844539",
     "exception": false,
     "start_time": "2025-03-30T16:24:11.800249",
     "status": "completed"
    },
    "tags": []
   },
   "outputs": [],
   "source": [
    "test.head()"
   ]
  },
  {
   "cell_type": "code",
   "execution_count": null,
   "id": "50e6a5bd",
   "metadata": {
    "execution": {
     "iopub.execute_input": "2025-03-30T16:24:11.901688Z",
     "iopub.status.busy": "2025-03-30T16:24:11.901345Z",
     "iopub.status.idle": "2025-03-30T16:24:11.907499Z",
     "shell.execute_reply": "2025-03-30T16:24:11.906347Z"
    },
    "papermill": {
     "duration": 0.037352,
     "end_time": "2025-03-30T16:24:11.909821",
     "exception": false,
     "start_time": "2025-03-30T16:24:11.872469",
     "status": "completed"
    },
    "tags": []
   },
   "outputs": [],
   "source": [
    "test.drop(columns=['Survived'],inplace=True)"
   ]
  },
  {
   "cell_type": "code",
   "execution_count": null,
   "id": "a29c4dfb",
   "metadata": {
    "execution": {
     "iopub.execute_input": "2025-03-30T16:24:11.967402Z",
     "iopub.status.busy": "2025-03-30T16:24:11.966566Z",
     "iopub.status.idle": "2025-03-30T16:24:11.972566Z",
     "shell.execute_reply": "2025-03-30T16:24:11.971706Z"
    },
    "papermill": {
     "duration": 0.036947,
     "end_time": "2025-03-30T16:24:11.974438",
     "exception": false,
     "start_time": "2025-03-30T16:24:11.937491",
     "status": "completed"
    },
    "tags": []
   },
   "outputs": [],
   "source": [
    "train['Survived'] = train['Survived'].astype('int64')"
   ]
  },
  {
   "cell_type": "code",
   "execution_count": null,
   "id": "4c305e43",
   "metadata": {
    "execution": {
     "iopub.execute_input": "2025-03-30T16:24:12.032041Z",
     "iopub.status.busy": "2025-03-30T16:24:12.031629Z",
     "iopub.status.idle": "2025-03-30T16:24:12.044246Z",
     "shell.execute_reply": "2025-03-30T16:24:12.043376Z"
    },
    "papermill": {
     "duration": 0.044186,
     "end_time": "2025-03-30T16:24:12.046303",
     "exception": false,
     "start_time": "2025-03-30T16:24:12.002117",
     "status": "completed"
    },
    "tags": []
   },
   "outputs": [],
   "source": [
    "train.head()"
   ]
  },
  {
   "cell_type": "code",
   "execution_count": null,
   "id": "f2704b33",
   "metadata": {
    "execution": {
     "iopub.execute_input": "2025-03-30T16:24:12.106541Z",
     "iopub.status.busy": "2025-03-30T16:24:12.106164Z",
     "iopub.status.idle": "2025-03-30T16:24:12.112503Z",
     "shell.execute_reply": "2025-03-30T16:24:12.111500Z"
    },
    "papermill": {
     "duration": 0.038789,
     "end_time": "2025-03-30T16:24:12.114661",
     "exception": false,
     "start_time": "2025-03-30T16:24:12.075872",
     "status": "completed"
    },
    "tags": []
   },
   "outputs": [],
   "source": [
    "train.shape,test.shape"
   ]
  },
  {
   "cell_type": "code",
   "execution_count": null,
   "id": "e9f37445",
   "metadata": {
    "execution": {
     "iopub.execute_input": "2025-03-30T16:24:12.173193Z",
     "iopub.status.busy": "2025-03-30T16:24:12.172835Z",
     "iopub.status.idle": "2025-03-30T16:24:12.178997Z",
     "shell.execute_reply": "2025-03-30T16:24:12.177812Z"
    },
    "papermill": {
     "duration": 0.038131,
     "end_time": "2025-03-30T16:24:12.181053",
     "exception": false,
     "start_time": "2025-03-30T16:24:12.142922",
     "status": "completed"
    },
    "tags": []
   },
   "outputs": [],
   "source": [
    "train = train.drop(\"PassengerId\", axis=1)"
   ]
  },
  {
   "cell_type": "code",
   "execution_count": null,
   "id": "5759561a",
   "metadata": {
    "execution": {
     "iopub.execute_input": "2025-03-30T16:24:12.241679Z",
     "iopub.status.busy": "2025-03-30T16:24:12.241302Z",
     "iopub.status.idle": "2025-03-30T16:24:12.248533Z",
     "shell.execute_reply": "2025-03-30T16:24:12.247188Z"
    },
    "papermill": {
     "duration": 0.0412,
     "end_time": "2025-03-30T16:24:12.250888",
     "exception": false,
     "start_time": "2025-03-30T16:24:12.209688",
     "status": "completed"
    },
    "tags": []
   },
   "outputs": [],
   "source": [
    "X_train = train.drop(\"Survived\", axis=1)\n",
    "y_train = train[\"Survived\"]"
   ]
  },
  {
   "cell_type": "code",
   "execution_count": null,
   "id": "06405d49",
   "metadata": {
    "execution": {
     "iopub.execute_input": "2025-03-30T16:24:12.309611Z",
     "iopub.status.busy": "2025-03-30T16:24:12.309244Z",
     "iopub.status.idle": "2025-03-30T16:24:12.321535Z",
     "shell.execute_reply": "2025-03-30T16:24:12.320525Z"
    },
    "papermill": {
     "duration": 0.044366,
     "end_time": "2025-03-30T16:24:12.323986",
     "exception": false,
     "start_time": "2025-03-30T16:24:12.279620",
     "status": "completed"
    },
    "tags": []
   },
   "outputs": [],
   "source": [
    "X_train.head()"
   ]
  },
  {
   "cell_type": "code",
   "execution_count": null,
   "id": "f574c972",
   "metadata": {
    "execution": {
     "iopub.execute_input": "2025-03-30T16:24:12.385701Z",
     "iopub.status.busy": "2025-03-30T16:24:12.385338Z",
     "iopub.status.idle": "2025-03-30T16:24:12.392364Z",
     "shell.execute_reply": "2025-03-30T16:24:12.391109Z"
    },
    "papermill": {
     "duration": 0.04125,
     "end_time": "2025-03-30T16:24:12.394785",
     "exception": false,
     "start_time": "2025-03-30T16:24:12.353535",
     "status": "completed"
    },
    "tags": []
   },
   "outputs": [],
   "source": [
    "X_train.shape,y_train.shape"
   ]
  },
  {
   "cell_type": "markdown",
   "id": "9b1656de",
   "metadata": {
    "papermill": {
     "duration": 0.029468,
     "end_time": "2025-03-30T16:24:12.454391",
     "exception": false,
     "start_time": "2025-03-30T16:24:12.424923",
     "status": "completed"
    },
    "tags": []
   },
   "source": [
    "### Creating a Pipeline with Column Transformer\n",
    "\n",
    "We will build a pipeline that incorporates a Column Transformer to streamline preprocessing and feature engineering.\n"
   ]
  },
  {
   "cell_type": "code",
   "execution_count": null,
   "id": "e8d71061",
   "metadata": {
    "execution": {
     "iopub.execute_input": "2025-03-30T16:24:12.513884Z",
     "iopub.status.busy": "2025-03-30T16:24:12.513477Z",
     "iopub.status.idle": "2025-03-30T16:24:12.519211Z",
     "shell.execute_reply": "2025-03-30T16:24:12.518197Z"
    },
    "papermill": {
     "duration": 0.037856,
     "end_time": "2025-03-30T16:24:12.521115",
     "exception": false,
     "start_time": "2025-03-30T16:24:12.483259",
     "status": "completed"
    },
    "tags": []
   },
   "outputs": [],
   "source": [
    "num_cat_tranformation=ColumnTransformer([\n",
    "                                    ('scaling',MinMaxScaler(),[0,2]),\n",
    "                                    ('onehotencolding1',OneHotEncoder(),[1,3]),\n",
    "                                    ('ordinal',OrdinalEncoder(),[4]),\n",
    "                                    ('onehotencolding2',OneHotEncoder(),[5,6])\n",
    "                                    ],remainder='passthrough')"
   ]
  },
  {
   "cell_type": "code",
   "execution_count": null,
   "id": "8fb8c247",
   "metadata": {
    "execution": {
     "iopub.execute_input": "2025-03-30T16:24:12.582923Z",
     "iopub.status.busy": "2025-03-30T16:24:12.582528Z",
     "iopub.status.idle": "2025-03-30T16:24:12.588109Z",
     "shell.execute_reply": "2025-03-30T16:24:12.587089Z"
    },
    "papermill": {
     "duration": 0.038379,
     "end_time": "2025-03-30T16:24:12.590256",
     "exception": false,
     "start_time": "2025-03-30T16:24:12.551877",
     "status": "completed"
    },
    "tags": []
   },
   "outputs": [],
   "source": [
    "bins=ColumnTransformer([\n",
    "                        ('Kbins',KBinsDiscretizer(n_bins=15,encode='ordinal',strategy='quantile'),[0,2]),\n",
    "                        ],remainder='passthrough')"
   ]
  },
  {
   "cell_type": "code",
   "execution_count": null,
   "id": "99c67856",
   "metadata": {
    "execution": {
     "iopub.execute_input": "2025-03-30T16:24:12.651877Z",
     "iopub.status.busy": "2025-03-30T16:24:12.651483Z",
     "iopub.status.idle": "2025-03-30T16:24:12.656191Z",
     "shell.execute_reply": "2025-03-30T16:24:12.655306Z"
    },
    "papermill": {
     "duration": 0.037472,
     "end_time": "2025-03-30T16:24:12.658075",
     "exception": false,
     "start_time": "2025-03-30T16:24:12.620603",
     "status": "completed"
    },
    "tags": []
   },
   "outputs": [],
   "source": [
    "from sklearn import set_config\n",
    "set_config(display='diagram')"
   ]
  },
  {
   "cell_type": "code",
   "execution_count": null,
   "id": "2b7cea05",
   "metadata": {
    "execution": {
     "iopub.execute_input": "2025-03-30T16:24:12.717959Z",
     "iopub.status.busy": "2025-03-30T16:24:12.717572Z",
     "iopub.status.idle": "2025-03-30T16:24:12.725559Z",
     "shell.execute_reply": "2025-03-30T16:24:12.724447Z"
    },
    "papermill": {
     "duration": 0.040481,
     "end_time": "2025-03-30T16:24:12.727818",
     "exception": false,
     "start_time": "2025-03-30T16:24:12.687337",
     "status": "completed"
    },
    "tags": []
   },
   "outputs": [],
   "source": [
    "from sklearn.model_selection import train_test_split\n",
    "X_train, X_test, y_train, y_test=train_test_split(X_train,y_train,test_size=0.2)"
   ]
  },
  {
   "cell_type": "code",
   "execution_count": null,
   "id": "e681fc1d",
   "metadata": {
    "execution": {
     "iopub.execute_input": "2025-03-30T16:24:12.786809Z",
     "iopub.status.busy": "2025-03-30T16:24:12.786443Z",
     "iopub.status.idle": "2025-03-30T16:24:12.791519Z",
     "shell.execute_reply": "2025-03-30T16:24:12.790527Z"
    },
    "papermill": {
     "duration": 0.036951,
     "end_time": "2025-03-30T16:24:12.793546",
     "exception": false,
     "start_time": "2025-03-30T16:24:12.756595",
     "status": "completed"
    },
    "tags": []
   },
   "outputs": [],
   "source": [
    "def create_pipeline(algo):\n",
    "    return Pipeline([\n",
    "        ('num_cat_transformation', num_cat_tranformation),\n",
    "        ('bins', bins),\n",
    "        ('classifier', algo)\n",
    "    ])"
   ]
  },
  {
   "cell_type": "markdown",
   "id": "4fb82e62",
   "metadata": {
    "papermill": {
     "duration": 0.029211,
     "end_time": "2025-03-30T16:24:12.852645",
     "exception": false,
     "start_time": "2025-03-30T16:24:12.823434",
     "status": "completed"
    },
    "tags": []
   },
   "source": [
    "## Model Training"
   ]
  },
  {
   "cell_type": "markdown",
   "id": "ea234d5b",
   "metadata": {
    "papermill": {
     "duration": 0.029016,
     "end_time": "2025-03-30T16:24:12.911075",
     "exception": false,
     "start_time": "2025-03-30T16:24:12.882059",
     "status": "completed"
    },
    "tags": []
   },
   "source": [
    "### Evaluating Various Machine Learning Models to Find the Best Performer\n",
    "\n",
    "We will test different machine learning models to identify which one provides the best performance for our data.\n"
   ]
  },
  {
   "cell_type": "code",
   "execution_count": null,
   "id": "9588e442",
   "metadata": {
    "execution": {
     "iopub.execute_input": "2025-03-30T16:24:12.970068Z",
     "iopub.status.busy": "2025-03-30T16:24:12.969675Z",
     "iopub.status.idle": "2025-03-30T16:24:12.976979Z",
     "shell.execute_reply": "2025-03-30T16:24:12.975956Z"
    },
    "papermill": {
     "duration": 0.039401,
     "end_time": "2025-03-30T16:24:12.979223",
     "exception": false,
     "start_time": "2025-03-30T16:24:12.939822",
     "status": "completed"
    },
    "tags": []
   },
   "outputs": [],
   "source": [
    "algorithms=[\n",
    "    # Ensemble Methods\n",
    "    ensemble.AdaBoostClassifier(),\n",
    "    ensemble.BaggingClassifier(),\n",
    "    ensemble.ExtraTreesClassifier(),\n",
    "    ensemble.GradientBoostingClassifier(),\n",
    "    ensemble.RandomForestClassifier(),\n",
    "\n",
    "    # Gaussian Processes\n",
    "    gaussian_process.GaussianProcessClassifier(),\n",
    "    \n",
    "    # GLM\n",
    "    linear_model.LogisticRegressionCV(),\n",
    "    linear_model.PassiveAggressiveClassifier(),\n",
    "    linear_model.RidgeClassifierCV(),\n",
    "    linear_model.SGDClassifier(),\n",
    "    linear_model.Perceptron(),\n",
    "    \n",
    "    # Naive Bayes\n",
    "    naive_bayes.BernoulliNB(),\n",
    "    naive_bayes.GaussianNB(),\n",
    "    \n",
    "    # Nearest Neighbor\n",
    "    neighbors.KNeighborsClassifier(),\n",
    "    \n",
    "    # SVM\n",
    "    svm.SVC(probability=True),\n",
    "    svm.NuSVC(probability=True),\n",
    "    svm.LinearSVC(),\n",
    "    \n",
    "    # Trees    \n",
    "    tree.DecisionTreeClassifier(),\n",
    "    tree.ExtraTreeClassifier(),\n",
    "    \n",
    "    # Discriminant Analysis\n",
    "    discriminant_analysis.LinearDiscriminantAnalysis(),\n",
    "    discriminant_analysis.QuadraticDiscriminantAnalysis(),\n",
    "    \n",
    "    # XGBoost\n",
    "    ## XGBClassifier()\n",
    "]"
   ]
  },
  {
   "cell_type": "code",
   "execution_count": null,
   "id": "a483ca8a",
   "metadata": {
    "execution": {
     "iopub.execute_input": "2025-03-30T16:24:13.046884Z",
     "iopub.status.busy": "2025-03-30T16:24:13.046078Z",
     "iopub.status.idle": "2025-03-30T16:24:24.409124Z",
     "shell.execute_reply": "2025-03-30T16:24:24.408268Z"
    },
    "papermill": {
     "duration": 11.399297,
     "end_time": "2025-03-30T16:24:24.411925",
     "exception": false,
     "start_time": "2025-03-30T16:24:13.012628",
     "status": "completed"
    },
    "tags": []
   },
   "outputs": [],
   "source": [
    "model_names = []\n",
    "CV_Accuracy=[]\n",
    "for algo in algorithms:\n",
    "    pipeline = create_pipeline(algo)\n",
    "    scores = cross_val_score(pipeline, X_train, y_train, cv=5)\n",
    "    model_names.append(algo.__class__.__name__)\n",
    "    CV_Accuracy.append(scores.mean())\n",
    "    \n",
    "#     print(f'Model: {algo.__class__.__name__}, CV Accuracy: {scores.mean()}')\n",
    "#     print('\\n')"
   ]
  },
  {
   "cell_type": "code",
   "execution_count": null,
   "id": "cb204ba8",
   "metadata": {
    "execution": {
     "iopub.execute_input": "2025-03-30T16:24:24.473800Z",
     "iopub.status.busy": "2025-03-30T16:24:24.473402Z",
     "iopub.status.idle": "2025-03-30T16:24:24.479085Z",
     "shell.execute_reply": "2025-03-30T16:24:24.477890Z"
    },
    "papermill": {
     "duration": 0.037906,
     "end_time": "2025-03-30T16:24:24.481315",
     "exception": false,
     "start_time": "2025-03-30T16:24:24.443409",
     "status": "completed"
    },
    "tags": []
   },
   "outputs": [],
   "source": [
    "model_df = pd.DataFrame({\n",
    "    'Model': model_names,\n",
    "    'Accuracy': CV_Accuracy})"
   ]
  },
  {
   "cell_type": "code",
   "execution_count": null,
   "id": "ea89e849",
   "metadata": {
    "execution": {
     "iopub.execute_input": "2025-03-30T16:24:24.542588Z",
     "iopub.status.busy": "2025-03-30T16:24:24.542151Z",
     "iopub.status.idle": "2025-03-30T16:24:24.549110Z",
     "shell.execute_reply": "2025-03-30T16:24:24.547848Z"
    },
    "papermill": {
     "duration": 0.040512,
     "end_time": "2025-03-30T16:24:24.551435",
     "exception": false,
     "start_time": "2025-03-30T16:24:24.510923",
     "status": "completed"
    },
    "tags": []
   },
   "outputs": [],
   "source": [
    "model_df.sort_values(by='Accuracy', ascending=False, inplace=True)"
   ]
  },
  {
   "cell_type": "markdown",
   "id": "d93ac9df",
   "metadata": {
    "papermill": {
     "duration": 0.030115,
     "end_time": "2025-03-30T16:24:24.614043",
     "exception": false,
     "start_time": "2025-03-30T16:24:24.583928",
     "status": "completed"
    },
    "tags": []
   },
   "source": [
    "### Tuning the Top 3 Machine Learning Models for Better Results\n",
    "\n",
    "We will focus on tuning the top 3 performing models from our data frame to enhance their performance and achieve better results.\n"
   ]
  },
  {
   "cell_type": "code",
   "execution_count": null,
   "id": "ebfebad4",
   "metadata": {
    "execution": {
     "iopub.execute_input": "2025-03-30T16:24:24.676931Z",
     "iopub.status.busy": "2025-03-30T16:24:24.676546Z",
     "iopub.status.idle": "2025-03-30T16:24:24.688460Z",
     "shell.execute_reply": "2025-03-30T16:24:24.687247Z"
    },
    "papermill": {
     "duration": 0.046123,
     "end_time": "2025-03-30T16:24:24.690641",
     "exception": false,
     "start_time": "2025-03-30T16:24:24.644518",
     "status": "completed"
    },
    "tags": []
   },
   "outputs": [],
   "source": [
    "model_df"
   ]
  },
  {
   "cell_type": "code",
   "execution_count": null,
   "id": "d4ed33ed",
   "metadata": {
    "execution": {
     "iopub.execute_input": "2025-03-30T16:24:24.755466Z",
     "iopub.status.busy": "2025-03-30T16:24:24.755055Z",
     "iopub.status.idle": "2025-03-30T16:24:24.761215Z",
     "shell.execute_reply": "2025-03-30T16:24:24.760167Z"
    },
    "papermill": {
     "duration": 0.041164,
     "end_time": "2025-03-30T16:24:24.763443",
     "exception": false,
     "start_time": "2025-03-30T16:24:24.722279",
     "status": "completed"
    },
    "tags": []
   },
   "outputs": [],
   "source": [
    "algo1 = ensemble.RandomForestClassifier(criterion='gini',\n",
    "                                           n_estimators=1750,\n",
    "                                           max_depth=7,\n",
    "                                           min_samples_split=6,\n",
    "                                           min_samples_leaf=6,\n",
    "                                           max_features='auto',\n",
    "                                           oob_score=True,\n",
    "                                           random_state=42,\n",
    "                                           n_jobs=-1,\n",
    "                                           verbose=1) \n",
    "\n",
    "algo2 =ensemble.GradientBoostingClassifier(max_depth= 1, max_features='auto', n_estimators=3, random_state=42, warm_start= True)\n",
    "algo3=linear_model.RidgeClassifierCV()"
   ]
  },
  {
   "cell_type": "code",
   "execution_count": null,
   "id": "bda8fc36",
   "metadata": {
    "execution": {
     "iopub.execute_input": "2025-03-30T16:24:24.825098Z",
     "iopub.status.busy": "2025-03-30T16:24:24.824686Z",
     "iopub.status.idle": "2025-03-30T16:24:24.829655Z",
     "shell.execute_reply": "2025-03-30T16:24:24.828788Z"
    },
    "papermill": {
     "duration": 0.038341,
     "end_time": "2025-03-30T16:24:24.831873",
     "exception": false,
     "start_time": "2025-03-30T16:24:24.793532",
     "status": "completed"
    },
    "tags": []
   },
   "outputs": [],
   "source": [
    "pipe1=Pipeline([\n",
    "        ('num_cat_transformation', num_cat_tranformation),\n",
    "        ('bins', bins),\n",
    "        ('classifier', algo1)\n",
    "    ])"
   ]
  },
  {
   "cell_type": "code",
   "execution_count": null,
   "id": "09e128f1",
   "metadata": {
    "execution": {
     "iopub.execute_input": "2025-03-30T16:24:24.892355Z",
     "iopub.status.busy": "2025-03-30T16:24:24.891977Z",
     "iopub.status.idle": "2025-03-30T16:24:31.223054Z",
     "shell.execute_reply": "2025-03-30T16:24:31.221805Z"
    },
    "papermill": {
     "duration": 6.364432,
     "end_time": "2025-03-30T16:24:31.225620",
     "exception": false,
     "start_time": "2025-03-30T16:24:24.861188",
     "status": "completed"
    },
    "tags": []
   },
   "outputs": [],
   "source": [
    "pipe1.fit(X_train,y_train)"
   ]
  },
  {
   "cell_type": "code",
   "execution_count": null,
   "id": "e3d0d1a3",
   "metadata": {
    "execution": {
     "iopub.execute_input": "2025-03-30T16:24:31.290688Z",
     "iopub.status.busy": "2025-03-30T16:24:31.290325Z",
     "iopub.status.idle": "2025-03-30T16:24:31.828539Z",
     "shell.execute_reply": "2025-03-30T16:24:31.827238Z"
    },
    "papermill": {
     "duration": 0.572114,
     "end_time": "2025-03-30T16:24:31.830593",
     "exception": false,
     "start_time": "2025-03-30T16:24:31.258479",
     "status": "completed"
    },
    "tags": []
   },
   "outputs": [],
   "source": [
    "y_pred = pipe1.predict(X_test)\n",
    "accuracy_score(y_test,y_pred)\n"
   ]
  }
 ],
 "metadata": {
  "kaggle": {
   "accelerator": "none",
   "dataSources": [
    {
     "databundleVersionId": 26502,
     "sourceId": 3136,
     "sourceType": "competition"
    },
    {
     "datasetId": 340,
     "sourceId": 721,
     "sourceType": "datasetVersion"
    },
    {
     "datasetId": 1275,
     "sourceId": 2286,
     "sourceType": "datasetVersion"
    },
    {
     "datasetId": 1355,
     "sourceId": 2445,
     "sourceType": "datasetVersion"
    },
    {
     "datasetId": 3064,
     "sourceId": 5101,
     "sourceType": "datasetVersion"
    },
    {
     "datasetId": 11349,
     "sourceId": 15725,
     "sourceType": "datasetVersion"
    },
    {
     "datasetId": 11657,
     "sourceId": 16098,
     "sourceType": "datasetVersion"
    },
    {
     "datasetId": 15989,
     "sourceId": 21106,
     "sourceType": "datasetVersion"
    },
    {
     "datasetId": 80599,
     "sourceId": 187274,
     "sourceType": "datasetVersion"
    },
    {
     "datasetId": 122398,
     "sourceId": 315766,
     "sourceType": "datasetVersion"
    },
    {
     "datasetId": 348873,
     "sourceId": 687897,
     "sourceType": "datasetVersion"
    },
    {
     "datasetId": 465127,
     "sourceId": 873754,
     "sourceType": "datasetVersion"
    },
    {
     "datasetId": 827866,
     "sourceId": 1935717,
     "sourceType": "datasetVersion"
    },
    {
     "datasetId": 826163,
     "sourceId": 2879186,
     "sourceType": "datasetVersion"
    },
    {
     "datasetId": 1818188,
     "sourceId": 2965537,
     "sourceType": "datasetVersion"
    },
    {
     "datasetId": 1893363,
     "sourceId": 3100063,
     "sourceType": "datasetVersion"
    },
    {
     "datasetId": 2209271,
     "sourceId": 3691974,
     "sourceType": "datasetVersion"
    },
    {
     "datasetId": 4053175,
     "sourceId": 7044109,
     "sourceType": "datasetVersion"
    },
    {
     "datasetId": 4232122,
     "sourceId": 7296258,
     "sourceType": "datasetVersion"
    },
    {
     "datasetId": 4329630,
     "sourceId": 7439065,
     "sourceType": "datasetVersion"
    },
    {
     "datasetId": 4332331,
     "sourceId": 7720855,
     "sourceType": "datasetVersion"
    },
    {
     "datasetId": 4545417,
     "sourceId": 7769911,
     "sourceType": "datasetVersion"
    },
    {
     "datasetId": 4681778,
     "sourceId": 8275175,
     "sourceType": "datasetVersion"
    },
    {
     "datasetId": 4928037,
     "sourceId": 8296201,
     "sourceType": "datasetVersion"
    },
    {
     "datasetId": 4395274,
     "sourceId": 7546961,
     "sourceType": "datasetVersion"
    }
   ],
   "dockerImageVersionId": 30732,
   "isGpuEnabled": false,
   "isInternetEnabled": true,
   "language": "python",
   "sourceType": "notebook"
  },
  "kernelspec": {
   "display_name": "python-in-prod",
   "language": "python",
   "name": "python3"
  },
  "language_info": {
   "codemirror_mode": {
    "name": "ipython",
    "version": 3
   },
   "file_extension": ".py",
   "mimetype": "text/x-python",
   "name": "python",
   "nbconvert_exporter": "python",
   "pygments_lexer": "ipython3",
   "version": "3.11.9"
  },
  "papermill": {
   "default_parameters": {},
   "duration": 39.975359,
   "end_time": "2025-03-30T16:24:33.622055",
   "environment_variables": {},
   "exception": null,
   "input_path": "__notebook__.ipynb",
   "output_path": "__notebook__.ipynb",
   "parameters": {},
   "start_time": "2025-03-30T16:23:53.646696",
   "version": "2.5.0"
  }
 },
 "nbformat": 4,
 "nbformat_minor": 5
}
